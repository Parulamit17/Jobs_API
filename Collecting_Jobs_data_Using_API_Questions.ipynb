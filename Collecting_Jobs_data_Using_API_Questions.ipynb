{
  "cells": [
    {
      "cell_type": "markdown",
      "metadata": {
        "id": "mjFQtH2la5MF"
      },
      "source": [
        "<p style=\"text-align:center\">\n",
        "    <a href=\"https://skills.network/?utm_medium=Exinfluencer&utm_source=Exinfluencer&utm_content=000026UJ&utm_term=10006555&utm_id=NA-SkillsNetwork-Channel-SkillsNetworkCoursesIBMDA0321ENSkillsNetwork928-2022-01-01\" target=\"_blank\">\n",
        "    <img src=\"https://cf-courses-data.s3.us.cloud-object-storage.appdomain.cloud/assets/logos/SN_web_lightmode.png\" width=\"200\" alt=\"Skills Network Logo\"  />\n",
        "    </a>\n",
        "</p>\n"
      ]
    },
    {
      "cell_type": "markdown",
      "metadata": {
        "id": "1ZKRoBIda5MH"
      },
      "source": [
        "# **Collecting Job Data Using APIs**\n"
      ]
    },
    {
      "cell_type": "markdown",
      "metadata": {
        "id": "ZzsuwsH1a5MI"
      },
      "source": [
        "Estimated time needed: **45 to 60** minutes\n"
      ]
    },
    {
      "cell_type": "markdown",
      "metadata": {
        "id": "D47tIL9qa5MJ"
      },
      "source": [
        "## Objectives\n"
      ]
    },
    {
      "cell_type": "markdown",
      "metadata": {
        "id": "V24Hap0xa5MJ"
      },
      "source": [
        "After completing this lab, you will be able to:\n"
      ]
    },
    {
      "cell_type": "markdown",
      "metadata": {
        "id": "25XY52Pha5MK"
      },
      "source": [
        "*   Collect job data from Jobs API\n",
        "*   Store the collected data into an excel spreadsheet.\n"
      ]
    },
    {
      "cell_type": "markdown",
      "metadata": {
        "id": "Vyf11x-2a5MK"
      },
      "source": [
        "><strong>Note: Before starting with the assignment make sure to read all the instructions and then move ahead with the coding part.</strong>\n"
      ]
    },
    {
      "cell_type": "markdown",
      "metadata": {
        "id": "5PI9HRc2a5MK"
      },
      "source": [
        "#### Instructions\n"
      ]
    },
    {
      "cell_type": "markdown",
      "metadata": {
        "id": "znabKUK1a5MK"
      },
      "source": [
        "To run the actual lab, firstly you need to click on the [Jobs_API](https://cf-courses-data.s3.us.cloud-object-storage.appdomain.cloud/IBM-DA0321EN-SkillsNetwork/labs/module%201/Accessing%20Data%20Using%20APIs/Jobs_API.ipynb) notebook link. The file contains flask code which is required to run the Jobs API data.\n",
        "\n",
        "Now, to run the code in the file that opens up follow the below steps.\n",
        "\n",
        "Step1: Download the file.\n",
        "\n",
        "Step2: Upload it on the IBM Watson studio. (If IBM Watson Cloud service does not work in your system, follow the alternate Step 2 below)\n",
        "\n",
        "Step2(alternate): Upload it in your SN labs environment using the upload button which is highlighted in red in the image below:\n",
        "Remember to upload this Jobs_API file in the same folder as your current .ipynb file\n",
        "\n",
        "<img src=\"https://cf-courses-data.s3.us.cloud-object-storage.appdomain.cloud/IBM-DA0321EN-SkillsNetwork/labs/module%201/Accessing%20Data%20Using%20APIs/Upload.PNG\">\n",
        "\n",
        "Step3:  Run all the cells of the Jobs_API file. (Even if you receive an asterik sign after running the last cell, the code works fine.)\n",
        "\n",
        "If you want to learn more about flask, which is optional, you can click on this link [here](https://cf-courses-data.s3.us.cloud-object-storage.appdomain.cloud/IBM-DA0321EN-SkillsNetwork/labs/module%201/Accessing%20Data%20Using%20APIs/FLASK_API.md.html).\n",
        "\n",
        "Once you run the flask code, you can start with your assignment.\n"
      ]
    },
    {
      "cell_type": "markdown",
      "metadata": {
        "id": "gX_1Vs3Da5ML"
      },
      "source": [
        "## Dataset Used in this Assignment\n",
        "\n",
        "The dataset used in this lab comes from the following source: https://www.kaggle.com/promptcloud/jobs-on-naukricom under the under a **Public Domain license**.\n",
        "\n",
        "> Note: We are using a modified subset of that dataset for the lab, so to follow the lab instructions successfully please use the dataset provided with the lab, rather than the dataset from the original source.\n",
        "\n",
        "The original dataset is a csv. We have converted the csv to json as per the requirement of the lab.\n"
      ]
    },
    {
      "cell_type": "markdown",
      "metadata": {
        "id": "dqg0ydnma5ML"
      },
      "source": [
        "## Warm-Up Exercise\n"
      ]
    },
    {
      "cell_type": "markdown",
      "metadata": {
        "id": "xpx4Kzroa5MM"
      },
      "source": [
        "Before you attempt the actual lab, here is a fully solved warmup exercise that will help you to learn how to access an API.\n"
      ]
    },
    {
      "cell_type": "markdown",
      "metadata": {
        "id": "jrO2i1uEa5MM"
      },
      "source": [
        "Using an API, let us find out who currently are on the International Space Station (ISS).<br> The API at [http://api.open-notify.org/astros.json](http://api.open-notify.org/astros.json?utm_medium=Exinfluencer&utm_source=Exinfluencer&utm_content=000026UJ&utm_term=10006555&utm_id=NA-SkillsNetwork-Channel-SkillsNetworkCoursesIBMDA0321ENSkillsNetwork21426264-2021-01-01&cm_mmc=Email_Newsletter-_-Developer_Ed%2BTech-_-WW_WW-_-SkillsNetwork-Courses-IBM-DA0321EN-SkillsNetwork-21426264&cm_mmca1=000026UJ&cm_mmca2=10006555&cm_mmca3=M12345678&cvosrc=email.Newsletter.M12345678&cvo_campaign=000026UJ) gives us the information of astronauts currently on ISS in json format.<br>\n",
        "You can read more about this API at [http://open-notify.org/Open-Notify-API/People-In-Space/](http://open-notify.org/Open-Notify-API/People-In-Space?utm_medium=Exinfluencer&utm_source=Exinfluencer&utm_content=000026UJ&utm_term=10006555&utm_id=NA-SkillsNetwork-Channel-SkillsNetworkCoursesIBMDA0321ENSkillsNetwork21426264-2021-01-01&cm_mmc=Email_Newsletter-_-Developer_Ed%2BTech-_-WW_WW-_-SkillsNetwork-Courses-IBM-DA0321EN-SkillsNetwork-21426264&cm_mmca1=000026UJ&cm_mmca2=10006555&cm_mmca3=M12345678&cvosrc=email.Newsletter.M12345678&cvo_campaign=000026UJ)\n"
      ]
    },
    {
      "cell_type": "code",
      "execution_count": 1,
      "metadata": {
        "id": "7E23XgnTa5MM"
      },
      "outputs": [],
      "source": [
        "import requests # you need this module to make an API call\n",
        "import pandas as pd"
      ]
    },
    {
      "cell_type": "code",
      "execution_count": 2,
      "metadata": {
        "id": "Qxoc1FM2a5MN"
      },
      "outputs": [],
      "source": [
        "api_url = \"http://api.open-notify.org/astros.json\" # this url gives use the astronaut data"
      ]
    },
    {
      "cell_type": "code",
      "execution_count": 3,
      "metadata": {
        "id": "2dQ4BkhVa5MN"
      },
      "outputs": [],
      "source": [
        "response = requests.get(api_url) # Call the API using the get method and store the\n",
        "                                # output of the API call in a variable called response."
      ]
    },
    {
      "cell_type": "code",
      "execution_count": 4,
      "metadata": {
        "id": "lKgXM2Tpa5MO"
      },
      "outputs": [],
      "source": [
        "if response.ok:             # if all is well() no errors, no network timeouts)\n",
        "    data = response.json()  # store the result in json format in a variable called data\n",
        "                            # the variable data is of type dictionary."
      ]
    },
    {
      "cell_type": "code",
      "execution_count": 4,
      "metadata": {
        "id": "UOripsCPa5MO"
      },
      "outputs": [],
      "source": []
    },
    {
      "cell_type": "code",
      "execution_count": 5,
      "metadata": {
        "colab": {
          "base_uri": "https://localhost:8080/"
        },
        "id": "PCRilQwta5MO",
        "outputId": "28a28080-b2b8-4e17-b4bc-4b1ae31e9520"
      },
      "outputs": [
        {
          "output_type": "stream",
          "name": "stdout",
          "text": [
            "{'people': [{'craft': 'ISS', 'name': 'Oleg Kononenko'}, {'craft': 'ISS', 'name': 'Nikolai Chub'}, {'craft': 'ISS', 'name': 'Tracy Caldwell Dyson'}, {'craft': 'ISS', 'name': 'Matthew Dominick'}, {'craft': 'ISS', 'name': 'Michael Barratt'}, {'craft': 'ISS', 'name': 'Jeanette Epps'}, {'craft': 'ISS', 'name': 'Alexander Grebenkin'}, {'craft': 'ISS', 'name': 'Butch Wilmore'}, {'craft': 'ISS', 'name': 'Sunita Williams'}, {'craft': 'Tiangong', 'name': 'Li Guangsu'}, {'craft': 'Tiangong', 'name': 'Li Cong'}, {'craft': 'Tiangong', 'name': 'Ye Guangfu'}], 'number': 12, 'message': 'success'}\n"
          ]
        }
      ],
      "source": [
        "print(data)   # print the data just to check the output or for debugging"
      ]
    },
    {
      "cell_type": "markdown",
      "metadata": {
        "id": "ddjBEdAAa5MO"
      },
      "source": [
        "Print the number of astronauts currently on ISS.\n"
      ]
    },
    {
      "cell_type": "code",
      "execution_count": 6,
      "metadata": {
        "colab": {
          "base_uri": "https://localhost:8080/"
        },
        "id": "ZhOmoTAQa5MP",
        "outputId": "43972517-76bf-4664-c75c-cf11e84bc5ff"
      },
      "outputs": [
        {
          "output_type": "stream",
          "name": "stdout",
          "text": [
            "12\n"
          ]
        }
      ],
      "source": [
        "print(data.get('number'))"
      ]
    },
    {
      "cell_type": "markdown",
      "metadata": {
        "id": "tg8RdAq0a5MP"
      },
      "source": [
        "Print the names of the astronauts currently on ISS.\n"
      ]
    },
    {
      "cell_type": "code",
      "execution_count": 7,
      "metadata": {
        "colab": {
          "base_uri": "https://localhost:8080/"
        },
        "id": "I0dVwBgDa5MP",
        "outputId": "da853d86-59de-407b-83d4-bf901329e774"
      },
      "outputs": [
        {
          "output_type": "stream",
          "name": "stdout",
          "text": [
            "There are 12 astronauts on ISS\n",
            "And their names are :\n",
            "Oleg Kononenko\n",
            "Nikolai Chub\n",
            "Tracy Caldwell Dyson\n",
            "Matthew Dominick\n",
            "Michael Barratt\n",
            "Jeanette Epps\n",
            "Alexander Grebenkin\n",
            "Butch Wilmore\n",
            "Sunita Williams\n",
            "Li Guangsu\n",
            "Li Cong\n",
            "Ye Guangfu\n"
          ]
        }
      ],
      "source": [
        "astronauts = data.get('people')\n",
        "print(\"There are {} astronauts on ISS\".format(len(astronauts)))\n",
        "print(\"And their names are :\")\n",
        "for astronaut in astronauts:\n",
        "    print(astronaut.get('name'))"
      ]
    },
    {
      "cell_type": "markdown",
      "metadata": {
        "id": "lOPCrbGEa5MP"
      },
      "source": [
        "Hope the warmup was helpful. Good luck with your next lab!\n"
      ]
    },
    {
      "cell_type": "markdown",
      "metadata": {
        "id": "8WVl53S2a5MQ"
      },
      "source": [
        "## Lab: Collect Jobs Data using Jobs API\n"
      ]
    },
    {
      "cell_type": "markdown",
      "metadata": {
        "id": "biRMxjCIa5MQ"
      },
      "source": [
        "### Objective: Determine the number of jobs currently open for various technologies  and for various locations\n"
      ]
    },
    {
      "cell_type": "markdown",
      "metadata": {
        "id": "Y7QADtSma5MQ"
      },
      "source": [
        "Collect the number of job postings for the following locations using the API:\n",
        "\n",
        "* Los Angeles\n",
        "* New York\n",
        "* San Francisco\n",
        "* Washington DC\n",
        "* Seattle\n",
        "* Austin\n",
        "* Detroit\n"
      ]
    },
    {
      "cell_type": "code",
      "execution_count": 8,
      "metadata": {
        "id": "WCXj4Po_a5MQ"
      },
      "outputs": [],
      "source": [
        "#Import required libraries\n",
        "import pandas as pd\n",
        "import json"
      ]
    },
    {
      "cell_type": "markdown",
      "metadata": {
        "id": "eeOnLZGUa5MR"
      },
      "source": [
        "#### Write a function to get the number of jobs for the Python technology.<br>\n",
        "> Note: While using the lab you need to pass the **payload** information for the **params** attribute in the form of **key** **value** pairs.\n",
        "  Refer the ungraded **rest api lab** in the course **Python for Data Science, AI & Development**  <a href=\"https://www.coursera.org/learn/python-for-applied-data-science-ai/ungradedLti/P6sW8/hands-on-lab-access-rest-apis-request-http?utm_medium=Exinfluencer&utm_source=Exinfluencer&utm_content=000026UJ&utm_term=10006555&utm_id=NA-SkillsNetwork-Channel-SkillsNetworkCoursesIBMDA0321ENSkillsNetwork928-2022-01-01\">link</a>\n",
        "  \n",
        " ##### The keys in the json are\n",
        " * Job Title\n",
        "\n",
        " * Job Experience Required\n",
        "\n",
        " * Key Skills\n",
        "\n",
        " * Role Category\n",
        "\n",
        " * Location\n",
        "\n",
        " * Functional Area\n",
        "\n",
        " * Industry\n",
        "\n",
        " * Role\n",
        "\n",
        "You can also view  the json file contents  from the following <a href = \"https://cf-courses-data.s3.us.cloud-object-storage.appdomain.cloud/IBM-DA0321EN-SkillsNetwork/labs/module%201/Accessing%20Data%20Using%20APIs/jobs.json\">json</a> URL.\n"
      ]
    },
    {
      "cell_type": "code",
      "execution_count": 9,
      "metadata": {
        "id": "J0kprjnra5MR"
      },
      "outputs": [],
      "source": [
        "api_url=\"http://127.0.0.1:5000/data\"\n",
        "def get_number_of_jobs_T(technology):\n",
        "\n",
        "    #your code goes here\n",
        "    return technology,number_of_jobs"
      ]
    },
    {
      "cell_type": "markdown",
      "metadata": {
        "id": "am5d6Cgla5MR"
      },
      "source": [
        "Calling the function for Python and checking if it works.\n"
      ]
    },
    {
      "cell_type": "code",
      "source": [
        "# prompt: Calling the function for Python and checking if it works.\n",
        "\n",
        "import requests # you need this module to make an API call\n",
        "import pandas as pd\n",
        "import json\n",
        "\n",
        "api_url=\"http://127.0.0.1:5000/data\"\n",
        "\n",
        "def get_number_of_jobs_T(technology):\n",
        "    payload = {\"Key Skills\": technology}\n",
        "    response = requests.get(api_url, params=payload)\n",
        "    if response.ok:\n",
        "        data = response.json()\n",
        "        number_of_jobs = len(data)\n",
        "        return technology, number_of_jobs\n",
        "    else:\n",
        "        return technology, 0 # Or handle the error appropriately\n",
        "\n",
        "\n",
        "# Calling the function for Python and checking if it works.\n",
        "technology, number_of_jobs = get_number_of_jobs_T(\"Python\")\n",
        "print(f\"Number of jobs for {technology}: {number_of_jobs}\")\n"
      ],
      "metadata": {
        "colab": {
          "base_uri": "https://localhost:8080/",
          "height": 755
        },
        "id": "nhrxYIVwz1wB",
        "outputId": "1a572d71-cfa6-4fa9-eec7-e648889a68e7"
      },
      "execution_count": 15,
      "outputs": [
        {
          "output_type": "error",
          "ename": "ConnectionError",
          "evalue": "HTTPConnectionPool(host='127.0.0.1', port=5000): Max retries exceeded with url: /data?Key+Skills=Python (Caused by NewConnectionError('<urllib3.connection.HTTPConnection object at 0x7b3d64e2d510>: Failed to establish a new connection: [Errno 111] Connection refused'))",
          "traceback": [
            "\u001b[0;31m---------------------------------------------------------------------------\u001b[0m",
            "\u001b[0;31mConnectionRefusedError\u001b[0m                    Traceback (most recent call last)",
            "\u001b[0;32m/usr/local/lib/python3.11/dist-packages/urllib3/connection.py\u001b[0m in \u001b[0;36m_new_conn\u001b[0;34m(self)\u001b[0m\n\u001b[1;32m    197\u001b[0m         \u001b[0;32mtry\u001b[0m\u001b[0;34m:\u001b[0m\u001b[0;34m\u001b[0m\u001b[0;34m\u001b[0m\u001b[0m\n\u001b[0;32m--> 198\u001b[0;31m             sock = connection.create_connection(\n\u001b[0m\u001b[1;32m    199\u001b[0m                 \u001b[0;34m(\u001b[0m\u001b[0mself\u001b[0m\u001b[0;34m.\u001b[0m\u001b[0m_dns_host\u001b[0m\u001b[0;34m,\u001b[0m \u001b[0mself\u001b[0m\u001b[0;34m.\u001b[0m\u001b[0mport\u001b[0m\u001b[0;34m)\u001b[0m\u001b[0;34m,\u001b[0m\u001b[0;34m\u001b[0m\u001b[0;34m\u001b[0m\u001b[0m\n",
            "\u001b[0;32m/usr/local/lib/python3.11/dist-packages/urllib3/util/connection.py\u001b[0m in \u001b[0;36mcreate_connection\u001b[0;34m(address, timeout, source_address, socket_options)\u001b[0m\n\u001b[1;32m     84\u001b[0m         \u001b[0;32mtry\u001b[0m\u001b[0;34m:\u001b[0m\u001b[0;34m\u001b[0m\u001b[0;34m\u001b[0m\u001b[0m\n\u001b[0;32m---> 85\u001b[0;31m             \u001b[0;32mraise\u001b[0m \u001b[0merr\u001b[0m\u001b[0;34m\u001b[0m\u001b[0;34m\u001b[0m\u001b[0m\n\u001b[0m\u001b[1;32m     86\u001b[0m         \u001b[0;32mfinally\u001b[0m\u001b[0;34m:\u001b[0m\u001b[0;34m\u001b[0m\u001b[0;34m\u001b[0m\u001b[0m\n",
            "\u001b[0;32m/usr/local/lib/python3.11/dist-packages/urllib3/util/connection.py\u001b[0m in \u001b[0;36mcreate_connection\u001b[0;34m(address, timeout, source_address, socket_options)\u001b[0m\n\u001b[1;32m     72\u001b[0m                 \u001b[0msock\u001b[0m\u001b[0;34m.\u001b[0m\u001b[0mbind\u001b[0m\u001b[0;34m(\u001b[0m\u001b[0msource_address\u001b[0m\u001b[0;34m)\u001b[0m\u001b[0;34m\u001b[0m\u001b[0;34m\u001b[0m\u001b[0m\n\u001b[0;32m---> 73\u001b[0;31m             \u001b[0msock\u001b[0m\u001b[0;34m.\u001b[0m\u001b[0mconnect\u001b[0m\u001b[0;34m(\u001b[0m\u001b[0msa\u001b[0m\u001b[0;34m)\u001b[0m\u001b[0;34m\u001b[0m\u001b[0;34m\u001b[0m\u001b[0m\n\u001b[0m\u001b[1;32m     74\u001b[0m             \u001b[0;31m# Break explicitly a reference cycle\u001b[0m\u001b[0;34m\u001b[0m\u001b[0;34m\u001b[0m\u001b[0m\n",
            "\u001b[0;31mConnectionRefusedError\u001b[0m: [Errno 111] Connection refused",
            "\nThe above exception was the direct cause of the following exception:\n",
            "\u001b[0;31mNewConnectionError\u001b[0m                        Traceback (most recent call last)",
            "\u001b[0;32m/usr/local/lib/python3.11/dist-packages/urllib3/connectionpool.py\u001b[0m in \u001b[0;36murlopen\u001b[0;34m(self, method, url, body, headers, retries, redirect, assert_same_host, timeout, pool_timeout, release_conn, chunked, body_pos, preload_content, decode_content, **response_kw)\u001b[0m\n\u001b[1;32m    786\u001b[0m             \u001b[0;31m# Make the request on the HTTPConnection object\u001b[0m\u001b[0;34m\u001b[0m\u001b[0;34m\u001b[0m\u001b[0m\n\u001b[0;32m--> 787\u001b[0;31m             response = self._make_request(\n\u001b[0m\u001b[1;32m    788\u001b[0m                 \u001b[0mconn\u001b[0m\u001b[0;34m,\u001b[0m\u001b[0;34m\u001b[0m\u001b[0;34m\u001b[0m\u001b[0m\n",
            "\u001b[0;32m/usr/local/lib/python3.11/dist-packages/urllib3/connectionpool.py\u001b[0m in \u001b[0;36m_make_request\u001b[0;34m(self, conn, method, url, body, headers, retries, timeout, chunked, response_conn, preload_content, decode_content, enforce_content_length)\u001b[0m\n\u001b[1;32m    492\u001b[0m         \u001b[0;32mtry\u001b[0m\u001b[0;34m:\u001b[0m\u001b[0;34m\u001b[0m\u001b[0;34m\u001b[0m\u001b[0m\n\u001b[0;32m--> 493\u001b[0;31m             conn.request(\n\u001b[0m\u001b[1;32m    494\u001b[0m                 \u001b[0mmethod\u001b[0m\u001b[0;34m,\u001b[0m\u001b[0;34m\u001b[0m\u001b[0;34m\u001b[0m\u001b[0m\n",
            "\u001b[0;32m/usr/local/lib/python3.11/dist-packages/urllib3/connection.py\u001b[0m in \u001b[0;36mrequest\u001b[0;34m(self, method, url, body, headers, chunked, preload_content, decode_content, enforce_content_length)\u001b[0m\n\u001b[1;32m    444\u001b[0m             \u001b[0mself\u001b[0m\u001b[0;34m.\u001b[0m\u001b[0mputheader\u001b[0m\u001b[0;34m(\u001b[0m\u001b[0mheader\u001b[0m\u001b[0;34m,\u001b[0m \u001b[0mvalue\u001b[0m\u001b[0;34m)\u001b[0m\u001b[0;34m\u001b[0m\u001b[0;34m\u001b[0m\u001b[0m\n\u001b[0;32m--> 445\u001b[0;31m         \u001b[0mself\u001b[0m\u001b[0;34m.\u001b[0m\u001b[0mendheaders\u001b[0m\u001b[0;34m(\u001b[0m\u001b[0;34m)\u001b[0m\u001b[0;34m\u001b[0m\u001b[0;34m\u001b[0m\u001b[0m\n\u001b[0m\u001b[1;32m    446\u001b[0m \u001b[0;34m\u001b[0m\u001b[0m\n",
            "\u001b[0;32m/usr/lib/python3.11/http/client.py\u001b[0m in \u001b[0;36mendheaders\u001b[0;34m(self, message_body, encode_chunked)\u001b[0m\n\u001b[1;32m   1297\u001b[0m             \u001b[0;32mraise\u001b[0m \u001b[0mCannotSendHeader\u001b[0m\u001b[0;34m(\u001b[0m\u001b[0;34m)\u001b[0m\u001b[0;34m\u001b[0m\u001b[0;34m\u001b[0m\u001b[0m\n\u001b[0;32m-> 1298\u001b[0;31m         \u001b[0mself\u001b[0m\u001b[0;34m.\u001b[0m\u001b[0m_send_output\u001b[0m\u001b[0;34m(\u001b[0m\u001b[0mmessage_body\u001b[0m\u001b[0;34m,\u001b[0m \u001b[0mencode_chunked\u001b[0m\u001b[0;34m=\u001b[0m\u001b[0mencode_chunked\u001b[0m\u001b[0;34m)\u001b[0m\u001b[0;34m\u001b[0m\u001b[0;34m\u001b[0m\u001b[0m\n\u001b[0m\u001b[1;32m   1299\u001b[0m \u001b[0;34m\u001b[0m\u001b[0m\n",
            "\u001b[0;32m/usr/lib/python3.11/http/client.py\u001b[0m in \u001b[0;36m_send_output\u001b[0;34m(self, message_body, encode_chunked)\u001b[0m\n\u001b[1;32m   1057\u001b[0m         \u001b[0;32mdel\u001b[0m \u001b[0mself\u001b[0m\u001b[0;34m.\u001b[0m\u001b[0m_buffer\u001b[0m\u001b[0;34m[\u001b[0m\u001b[0;34m:\u001b[0m\u001b[0;34m]\u001b[0m\u001b[0;34m\u001b[0m\u001b[0;34m\u001b[0m\u001b[0m\n\u001b[0;32m-> 1058\u001b[0;31m         \u001b[0mself\u001b[0m\u001b[0;34m.\u001b[0m\u001b[0msend\u001b[0m\u001b[0;34m(\u001b[0m\u001b[0mmsg\u001b[0m\u001b[0;34m)\u001b[0m\u001b[0;34m\u001b[0m\u001b[0;34m\u001b[0m\u001b[0m\n\u001b[0m\u001b[1;32m   1059\u001b[0m \u001b[0;34m\u001b[0m\u001b[0m\n",
            "\u001b[0;32m/usr/lib/python3.11/http/client.py\u001b[0m in \u001b[0;36msend\u001b[0;34m(self, data)\u001b[0m\n\u001b[1;32m    995\u001b[0m             \u001b[0;32mif\u001b[0m \u001b[0mself\u001b[0m\u001b[0;34m.\u001b[0m\u001b[0mauto_open\u001b[0m\u001b[0;34m:\u001b[0m\u001b[0;34m\u001b[0m\u001b[0;34m\u001b[0m\u001b[0m\n\u001b[0;32m--> 996\u001b[0;31m                 \u001b[0mself\u001b[0m\u001b[0;34m.\u001b[0m\u001b[0mconnect\u001b[0m\u001b[0;34m(\u001b[0m\u001b[0;34m)\u001b[0m\u001b[0;34m\u001b[0m\u001b[0;34m\u001b[0m\u001b[0m\n\u001b[0m\u001b[1;32m    997\u001b[0m             \u001b[0;32melse\u001b[0m\u001b[0;34m:\u001b[0m\u001b[0;34m\u001b[0m\u001b[0;34m\u001b[0m\u001b[0m\n",
            "\u001b[0;32m/usr/local/lib/python3.11/dist-packages/urllib3/connection.py\u001b[0m in \u001b[0;36mconnect\u001b[0;34m(self)\u001b[0m\n\u001b[1;32m    275\u001b[0m     \u001b[0;32mdef\u001b[0m \u001b[0mconnect\u001b[0m\u001b[0;34m(\u001b[0m\u001b[0mself\u001b[0m\u001b[0;34m)\u001b[0m \u001b[0;34m->\u001b[0m \u001b[0;32mNone\u001b[0m\u001b[0;34m:\u001b[0m\u001b[0;34m\u001b[0m\u001b[0;34m\u001b[0m\u001b[0m\n\u001b[0;32m--> 276\u001b[0;31m         \u001b[0mself\u001b[0m\u001b[0;34m.\u001b[0m\u001b[0msock\u001b[0m \u001b[0;34m=\u001b[0m \u001b[0mself\u001b[0m\u001b[0;34m.\u001b[0m\u001b[0m_new_conn\u001b[0m\u001b[0;34m(\u001b[0m\u001b[0;34m)\u001b[0m\u001b[0;34m\u001b[0m\u001b[0;34m\u001b[0m\u001b[0m\n\u001b[0m\u001b[1;32m    277\u001b[0m         \u001b[0;32mif\u001b[0m \u001b[0mself\u001b[0m\u001b[0;34m.\u001b[0m\u001b[0m_tunnel_host\u001b[0m\u001b[0;34m:\u001b[0m\u001b[0;34m\u001b[0m\u001b[0;34m\u001b[0m\u001b[0m\n",
            "\u001b[0;32m/usr/local/lib/python3.11/dist-packages/urllib3/connection.py\u001b[0m in \u001b[0;36m_new_conn\u001b[0;34m(self)\u001b[0m\n\u001b[1;32m    212\u001b[0m         \u001b[0;32mexcept\u001b[0m \u001b[0mOSError\u001b[0m \u001b[0;32mas\u001b[0m \u001b[0me\u001b[0m\u001b[0;34m:\u001b[0m\u001b[0;34m\u001b[0m\u001b[0;34m\u001b[0m\u001b[0m\n\u001b[0;32m--> 213\u001b[0;31m             raise NewConnectionError(\n\u001b[0m\u001b[1;32m    214\u001b[0m                 \u001b[0mself\u001b[0m\u001b[0;34m,\u001b[0m \u001b[0;34mf\"Failed to establish a new connection: {e}\"\u001b[0m\u001b[0;34m\u001b[0m\u001b[0;34m\u001b[0m\u001b[0m\n",
            "\u001b[0;31mNewConnectionError\u001b[0m: <urllib3.connection.HTTPConnection object at 0x7b3d64e2d510>: Failed to establish a new connection: [Errno 111] Connection refused",
            "\nThe above exception was the direct cause of the following exception:\n",
            "\u001b[0;31mMaxRetryError\u001b[0m                             Traceback (most recent call last)",
            "\u001b[0;32m/usr/local/lib/python3.11/dist-packages/requests/adapters.py\u001b[0m in \u001b[0;36msend\u001b[0;34m(self, request, stream, timeout, verify, cert, proxies)\u001b[0m\n\u001b[1;32m    666\u001b[0m         \u001b[0;32mtry\u001b[0m\u001b[0;34m:\u001b[0m\u001b[0;34m\u001b[0m\u001b[0;34m\u001b[0m\u001b[0m\n\u001b[0;32m--> 667\u001b[0;31m             resp = conn.urlopen(\n\u001b[0m\u001b[1;32m    668\u001b[0m                 \u001b[0mmethod\u001b[0m\u001b[0;34m=\u001b[0m\u001b[0mrequest\u001b[0m\u001b[0;34m.\u001b[0m\u001b[0mmethod\u001b[0m\u001b[0;34m,\u001b[0m\u001b[0;34m\u001b[0m\u001b[0;34m\u001b[0m\u001b[0m\n",
            "\u001b[0;32m/usr/local/lib/python3.11/dist-packages/urllib3/connectionpool.py\u001b[0m in \u001b[0;36murlopen\u001b[0;34m(self, method, url, body, headers, retries, redirect, assert_same_host, timeout, pool_timeout, release_conn, chunked, body_pos, preload_content, decode_content, **response_kw)\u001b[0m\n\u001b[1;32m    840\u001b[0m \u001b[0;34m\u001b[0m\u001b[0m\n\u001b[0;32m--> 841\u001b[0;31m             retries = retries.increment(\n\u001b[0m\u001b[1;32m    842\u001b[0m                 \u001b[0mmethod\u001b[0m\u001b[0;34m,\u001b[0m \u001b[0murl\u001b[0m\u001b[0;34m,\u001b[0m \u001b[0merror\u001b[0m\u001b[0;34m=\u001b[0m\u001b[0mnew_e\u001b[0m\u001b[0;34m,\u001b[0m \u001b[0m_pool\u001b[0m\u001b[0;34m=\u001b[0m\u001b[0mself\u001b[0m\u001b[0;34m,\u001b[0m \u001b[0m_stacktrace\u001b[0m\u001b[0;34m=\u001b[0m\u001b[0msys\u001b[0m\u001b[0;34m.\u001b[0m\u001b[0mexc_info\u001b[0m\u001b[0;34m(\u001b[0m\u001b[0;34m)\u001b[0m\u001b[0;34m[\u001b[0m\u001b[0;36m2\u001b[0m\u001b[0;34m]\u001b[0m\u001b[0;34m\u001b[0m\u001b[0;34m\u001b[0m\u001b[0m\n",
            "\u001b[0;32m/usr/local/lib/python3.11/dist-packages/urllib3/util/retry.py\u001b[0m in \u001b[0;36mincrement\u001b[0;34m(self, method, url, response, error, _pool, _stacktrace)\u001b[0m\n\u001b[1;32m    518\u001b[0m             \u001b[0mreason\u001b[0m \u001b[0;34m=\u001b[0m \u001b[0merror\u001b[0m \u001b[0;32mor\u001b[0m \u001b[0mResponseError\u001b[0m\u001b[0;34m(\u001b[0m\u001b[0mcause\u001b[0m\u001b[0;34m)\u001b[0m\u001b[0;34m\u001b[0m\u001b[0;34m\u001b[0m\u001b[0m\n\u001b[0;32m--> 519\u001b[0;31m             \u001b[0;32mraise\u001b[0m \u001b[0mMaxRetryError\u001b[0m\u001b[0;34m(\u001b[0m\u001b[0m_pool\u001b[0m\u001b[0;34m,\u001b[0m \u001b[0murl\u001b[0m\u001b[0;34m,\u001b[0m \u001b[0mreason\u001b[0m\u001b[0;34m)\u001b[0m \u001b[0;32mfrom\u001b[0m \u001b[0mreason\u001b[0m  \u001b[0;31m# type: ignore[arg-type]\u001b[0m\u001b[0;34m\u001b[0m\u001b[0;34m\u001b[0m\u001b[0m\n\u001b[0m\u001b[1;32m    520\u001b[0m \u001b[0;34m\u001b[0m\u001b[0m\n",
            "\u001b[0;31mMaxRetryError\u001b[0m: HTTPConnectionPool(host='127.0.0.1', port=5000): Max retries exceeded with url: /data?Key+Skills=Python (Caused by NewConnectionError('<urllib3.connection.HTTPConnection object at 0x7b3d64e2d510>: Failed to establish a new connection: [Errno 111] Connection refused'))",
            "\nDuring handling of the above exception, another exception occurred:\n",
            "\u001b[0;31mConnectionError\u001b[0m                           Traceback (most recent call last)",
            "\u001b[0;32m<ipython-input-15-83f14fdc26b4>\u001b[0m in \u001b[0;36m<cell line: 0>\u001b[0;34m()\u001b[0m\n\u001b[1;32m     19\u001b[0m \u001b[0;34m\u001b[0m\u001b[0m\n\u001b[1;32m     20\u001b[0m \u001b[0;31m# Calling the function for Python and checking if it works.\u001b[0m\u001b[0;34m\u001b[0m\u001b[0;34m\u001b[0m\u001b[0m\n\u001b[0;32m---> 21\u001b[0;31m \u001b[0mtechnology\u001b[0m\u001b[0;34m,\u001b[0m \u001b[0mnumber_of_jobs\u001b[0m \u001b[0;34m=\u001b[0m \u001b[0mget_number_of_jobs_T\u001b[0m\u001b[0;34m(\u001b[0m\u001b[0;34m\"Python\"\u001b[0m\u001b[0;34m)\u001b[0m\u001b[0;34m\u001b[0m\u001b[0;34m\u001b[0m\u001b[0m\n\u001b[0m\u001b[1;32m     22\u001b[0m \u001b[0mprint\u001b[0m\u001b[0;34m(\u001b[0m\u001b[0;34mf\"Number of jobs for {technology}: {number_of_jobs}\"\u001b[0m\u001b[0;34m)\u001b[0m\u001b[0;34m\u001b[0m\u001b[0;34m\u001b[0m\u001b[0m\n",
            "\u001b[0;32m<ipython-input-15-83f14fdc26b4>\u001b[0m in \u001b[0;36mget_number_of_jobs_T\u001b[0;34m(technology)\u001b[0m\n\u001b[1;32m      9\u001b[0m \u001b[0;32mdef\u001b[0m \u001b[0mget_number_of_jobs_T\u001b[0m\u001b[0;34m(\u001b[0m\u001b[0mtechnology\u001b[0m\u001b[0;34m)\u001b[0m\u001b[0;34m:\u001b[0m\u001b[0;34m\u001b[0m\u001b[0;34m\u001b[0m\u001b[0m\n\u001b[1;32m     10\u001b[0m     \u001b[0mpayload\u001b[0m \u001b[0;34m=\u001b[0m \u001b[0;34m{\u001b[0m\u001b[0;34m\"Key Skills\"\u001b[0m\u001b[0;34m:\u001b[0m \u001b[0mtechnology\u001b[0m\u001b[0;34m}\u001b[0m\u001b[0;34m\u001b[0m\u001b[0;34m\u001b[0m\u001b[0m\n\u001b[0;32m---> 11\u001b[0;31m     \u001b[0mresponse\u001b[0m \u001b[0;34m=\u001b[0m \u001b[0mrequests\u001b[0m\u001b[0;34m.\u001b[0m\u001b[0mget\u001b[0m\u001b[0;34m(\u001b[0m\u001b[0mapi_url\u001b[0m\u001b[0;34m,\u001b[0m \u001b[0mparams\u001b[0m\u001b[0;34m=\u001b[0m\u001b[0mpayload\u001b[0m\u001b[0;34m)\u001b[0m\u001b[0;34m\u001b[0m\u001b[0;34m\u001b[0m\u001b[0m\n\u001b[0m\u001b[1;32m     12\u001b[0m     \u001b[0;32mif\u001b[0m \u001b[0mresponse\u001b[0m\u001b[0;34m.\u001b[0m\u001b[0mok\u001b[0m\u001b[0;34m:\u001b[0m\u001b[0;34m\u001b[0m\u001b[0;34m\u001b[0m\u001b[0m\n\u001b[1;32m     13\u001b[0m         \u001b[0mdata\u001b[0m \u001b[0;34m=\u001b[0m \u001b[0mresponse\u001b[0m\u001b[0;34m.\u001b[0m\u001b[0mjson\u001b[0m\u001b[0;34m(\u001b[0m\u001b[0;34m)\u001b[0m\u001b[0;34m\u001b[0m\u001b[0;34m\u001b[0m\u001b[0m\n",
            "\u001b[0;32m/usr/local/lib/python3.11/dist-packages/requests/api.py\u001b[0m in \u001b[0;36mget\u001b[0;34m(url, params, **kwargs)\u001b[0m\n\u001b[1;32m     71\u001b[0m     \"\"\"\n\u001b[1;32m     72\u001b[0m \u001b[0;34m\u001b[0m\u001b[0m\n\u001b[0;32m---> 73\u001b[0;31m     \u001b[0;32mreturn\u001b[0m \u001b[0mrequest\u001b[0m\u001b[0;34m(\u001b[0m\u001b[0;34m\"get\"\u001b[0m\u001b[0;34m,\u001b[0m \u001b[0murl\u001b[0m\u001b[0;34m,\u001b[0m \u001b[0mparams\u001b[0m\u001b[0;34m=\u001b[0m\u001b[0mparams\u001b[0m\u001b[0;34m,\u001b[0m \u001b[0;34m**\u001b[0m\u001b[0mkwargs\u001b[0m\u001b[0;34m)\u001b[0m\u001b[0;34m\u001b[0m\u001b[0;34m\u001b[0m\u001b[0m\n\u001b[0m\u001b[1;32m     74\u001b[0m \u001b[0;34m\u001b[0m\u001b[0m\n\u001b[1;32m     75\u001b[0m \u001b[0;34m\u001b[0m\u001b[0m\n",
            "\u001b[0;32m/usr/local/lib/python3.11/dist-packages/requests/api.py\u001b[0m in \u001b[0;36mrequest\u001b[0;34m(method, url, **kwargs)\u001b[0m\n\u001b[1;32m     57\u001b[0m     \u001b[0;31m# cases, and look like a memory leak in others.\u001b[0m\u001b[0;34m\u001b[0m\u001b[0;34m\u001b[0m\u001b[0m\n\u001b[1;32m     58\u001b[0m     \u001b[0;32mwith\u001b[0m \u001b[0msessions\u001b[0m\u001b[0;34m.\u001b[0m\u001b[0mSession\u001b[0m\u001b[0;34m(\u001b[0m\u001b[0;34m)\u001b[0m \u001b[0;32mas\u001b[0m \u001b[0msession\u001b[0m\u001b[0;34m:\u001b[0m\u001b[0;34m\u001b[0m\u001b[0;34m\u001b[0m\u001b[0m\n\u001b[0;32m---> 59\u001b[0;31m         \u001b[0;32mreturn\u001b[0m \u001b[0msession\u001b[0m\u001b[0;34m.\u001b[0m\u001b[0mrequest\u001b[0m\u001b[0;34m(\u001b[0m\u001b[0mmethod\u001b[0m\u001b[0;34m=\u001b[0m\u001b[0mmethod\u001b[0m\u001b[0;34m,\u001b[0m \u001b[0murl\u001b[0m\u001b[0;34m=\u001b[0m\u001b[0murl\u001b[0m\u001b[0;34m,\u001b[0m \u001b[0;34m**\u001b[0m\u001b[0mkwargs\u001b[0m\u001b[0;34m)\u001b[0m\u001b[0;34m\u001b[0m\u001b[0;34m\u001b[0m\u001b[0m\n\u001b[0m\u001b[1;32m     60\u001b[0m \u001b[0;34m\u001b[0m\u001b[0m\n\u001b[1;32m     61\u001b[0m \u001b[0;34m\u001b[0m\u001b[0m\n",
            "\u001b[0;32m/usr/local/lib/python3.11/dist-packages/requests/sessions.py\u001b[0m in \u001b[0;36mrequest\u001b[0;34m(self, method, url, params, data, headers, cookies, files, auth, timeout, allow_redirects, proxies, hooks, stream, verify, cert, json)\u001b[0m\n\u001b[1;32m    587\u001b[0m         }\n\u001b[1;32m    588\u001b[0m         \u001b[0msend_kwargs\u001b[0m\u001b[0;34m.\u001b[0m\u001b[0mupdate\u001b[0m\u001b[0;34m(\u001b[0m\u001b[0msettings\u001b[0m\u001b[0;34m)\u001b[0m\u001b[0;34m\u001b[0m\u001b[0;34m\u001b[0m\u001b[0m\n\u001b[0;32m--> 589\u001b[0;31m         \u001b[0mresp\u001b[0m \u001b[0;34m=\u001b[0m \u001b[0mself\u001b[0m\u001b[0;34m.\u001b[0m\u001b[0msend\u001b[0m\u001b[0;34m(\u001b[0m\u001b[0mprep\u001b[0m\u001b[0;34m,\u001b[0m \u001b[0;34m**\u001b[0m\u001b[0msend_kwargs\u001b[0m\u001b[0;34m)\u001b[0m\u001b[0;34m\u001b[0m\u001b[0;34m\u001b[0m\u001b[0m\n\u001b[0m\u001b[1;32m    590\u001b[0m \u001b[0;34m\u001b[0m\u001b[0m\n\u001b[1;32m    591\u001b[0m         \u001b[0;32mreturn\u001b[0m \u001b[0mresp\u001b[0m\u001b[0;34m\u001b[0m\u001b[0;34m\u001b[0m\u001b[0m\n",
            "\u001b[0;32m/usr/local/lib/python3.11/dist-packages/requests/sessions.py\u001b[0m in \u001b[0;36msend\u001b[0;34m(self, request, **kwargs)\u001b[0m\n\u001b[1;32m    701\u001b[0m \u001b[0;34m\u001b[0m\u001b[0m\n\u001b[1;32m    702\u001b[0m         \u001b[0;31m# Send the request\u001b[0m\u001b[0;34m\u001b[0m\u001b[0;34m\u001b[0m\u001b[0m\n\u001b[0;32m--> 703\u001b[0;31m         \u001b[0mr\u001b[0m \u001b[0;34m=\u001b[0m \u001b[0madapter\u001b[0m\u001b[0;34m.\u001b[0m\u001b[0msend\u001b[0m\u001b[0;34m(\u001b[0m\u001b[0mrequest\u001b[0m\u001b[0;34m,\u001b[0m \u001b[0;34m**\u001b[0m\u001b[0mkwargs\u001b[0m\u001b[0;34m)\u001b[0m\u001b[0;34m\u001b[0m\u001b[0;34m\u001b[0m\u001b[0m\n\u001b[0m\u001b[1;32m    704\u001b[0m \u001b[0;34m\u001b[0m\u001b[0m\n\u001b[1;32m    705\u001b[0m         \u001b[0;31m# Total elapsed time of the request (approximately)\u001b[0m\u001b[0;34m\u001b[0m\u001b[0;34m\u001b[0m\u001b[0m\n",
            "\u001b[0;32m/usr/local/lib/python3.11/dist-packages/requests/adapters.py\u001b[0m in \u001b[0;36msend\u001b[0;34m(self, request, stream, timeout, verify, cert, proxies)\u001b[0m\n\u001b[1;32m    698\u001b[0m                 \u001b[0;32mraise\u001b[0m \u001b[0mSSLError\u001b[0m\u001b[0;34m(\u001b[0m\u001b[0me\u001b[0m\u001b[0;34m,\u001b[0m \u001b[0mrequest\u001b[0m\u001b[0;34m=\u001b[0m\u001b[0mrequest\u001b[0m\u001b[0;34m)\u001b[0m\u001b[0;34m\u001b[0m\u001b[0;34m\u001b[0m\u001b[0m\n\u001b[1;32m    699\u001b[0m \u001b[0;34m\u001b[0m\u001b[0m\n\u001b[0;32m--> 700\u001b[0;31m             \u001b[0;32mraise\u001b[0m \u001b[0mConnectionError\u001b[0m\u001b[0;34m(\u001b[0m\u001b[0me\u001b[0m\u001b[0;34m,\u001b[0m \u001b[0mrequest\u001b[0m\u001b[0;34m=\u001b[0m\u001b[0mrequest\u001b[0m\u001b[0;34m)\u001b[0m\u001b[0;34m\u001b[0m\u001b[0;34m\u001b[0m\u001b[0m\n\u001b[0m\u001b[1;32m    701\u001b[0m \u001b[0;34m\u001b[0m\u001b[0m\n\u001b[1;32m    702\u001b[0m         \u001b[0;32mexcept\u001b[0m \u001b[0mClosedPoolError\u001b[0m \u001b[0;32mas\u001b[0m \u001b[0me\u001b[0m\u001b[0;34m:\u001b[0m\u001b[0;34m\u001b[0m\u001b[0;34m\u001b[0m\u001b[0m\n",
            "\u001b[0;31mConnectionError\u001b[0m: HTTPConnectionPool(host='127.0.0.1', port=5000): Max retries exceeded with url: /data?Key+Skills=Python (Caused by NewConnectionError('<urllib3.connection.HTTPConnection object at 0x7b3d64e2d510>: Failed to establish a new connection: [Errno 111] Connection refused'))"
          ]
        }
      ]
    },
    {
      "cell_type": "code",
      "source": [
        "# prompt: Calling the function for Python and checking if it works.\n",
        "\n",
        "import requests # you need this module to make an API call\n",
        "import pandas as pd\n",
        "import json\n",
        "\n",
        "api_url=\"http://127.0.0.1:5000/data\"\n",
        "\n",
        "def get_number_of_jobs_T(technology):\n",
        "    \"\"\"\n",
        "    This function retrieves the number of jobs for a specific technology\n",
        "    using the provided API endpoint.\n",
        "\n",
        "    Args:\n",
        "        technology (str): The technology to search for (e.g., 'Python').\n",
        "\n",
        "    Returns:\n",
        "        tuple: A tuple containing the technology and the number of jobs found.\n",
        "               If the request fails, it returns the technology and 0.\n",
        "    \"\"\"\n",
        "    payload = {\"Key Skills\": technology}\n",
        "    try:\n",
        "        response = requests.get(api_url, params=payload)\n",
        "        response.raise_for_status()  # Raise an exception for bad status codes (4xx or 5xx)\n",
        "        data = response.json()\n",
        "        number_of_jobs = len(data)\n",
        "        return technology, number_of_jobs\n",
        "    except requests.exceptions.RequestException as e:\n",
        "        print(f\"Error fetching data for {technology}: {e}\")\n",
        "        return technology, 0 # Or handle the error appropriately\n",
        "\n",
        "\n",
        "# Calling the function for Python and checking if it works.\n",
        "technology, number_of_jobs = get_number_of_jobs_T(\"Python\")\n",
        "print(f\"Number of jobs for {technology}: {number_of_jobs}\")"
      ],
      "metadata": {
        "colab": {
          "base_uri": "https://localhost:8080/"
        },
        "id": "FhaUoZ-m0EpH",
        "outputId": "fb86b2e0-e172-4b60-fb01-b52548bbe5eb"
      },
      "execution_count": 16,
      "outputs": [
        {
          "output_type": "stream",
          "name": "stdout",
          "text": [
            "Error fetching data for Python: HTTPConnectionPool(host='127.0.0.1', port=5000): Max retries exceeded with url: /data?Key+Skills=Python (Caused by NewConnectionError('<urllib3.connection.HTTPConnection object at 0x7b3d667ada10>: Failed to establish a new connection: [Errno 111] Connection refused'))\n",
            "Number of jobs for Python: 0\n"
          ]
        }
      ]
    },
    {
      "cell_type": "code",
      "execution_count": 10,
      "metadata": {
        "colab": {
          "base_uri": "https://localhost:8080/",
          "height": 238
        },
        "id": "P8976-HMa5MS",
        "outputId": "7fa85699-b81a-406e-c37b-8eef499da9c6"
      },
      "outputs": [
        {
          "output_type": "error",
          "ename": "NameError",
          "evalue": "name 'number_of_jobs' is not defined",
          "traceback": [
            "\u001b[0;31m---------------------------------------------------------------------------\u001b[0m",
            "\u001b[0;31mNameError\u001b[0m                                 Traceback (most recent call last)",
            "\u001b[0;32m<ipython-input-10-36d8d9ec9b09>\u001b[0m in \u001b[0;36m<cell line: 0>\u001b[0;34m()\u001b[0m\n\u001b[0;32m----> 1\u001b[0;31m \u001b[0mget_number_of_jobs_T\u001b[0m\u001b[0;34m(\u001b[0m\u001b[0;34m\"Python\"\u001b[0m\u001b[0;34m)\u001b[0m\u001b[0;34m\u001b[0m\u001b[0;34m\u001b[0m\u001b[0m\n\u001b[0m",
            "\u001b[0;32m<ipython-input-9-3d4de08ba3c6>\u001b[0m in \u001b[0;36mget_number_of_jobs_T\u001b[0;34m(technology)\u001b[0m\n\u001b[1;32m      3\u001b[0m \u001b[0;34m\u001b[0m\u001b[0m\n\u001b[1;32m      4\u001b[0m     \u001b[0;31m#your code goes here\u001b[0m\u001b[0;34m\u001b[0m\u001b[0;34m\u001b[0m\u001b[0m\n\u001b[0;32m----> 5\u001b[0;31m     \u001b[0;32mreturn\u001b[0m \u001b[0mtechnology\u001b[0m\u001b[0;34m,\u001b[0m\u001b[0mnumber_of_jobs\u001b[0m\u001b[0;34m\u001b[0m\u001b[0;34m\u001b[0m\u001b[0m\n\u001b[0m",
            "\u001b[0;31mNameError\u001b[0m: name 'number_of_jobs' is not defined"
          ]
        }
      ],
      "source": [
        "get_number_of_jobs_T(\"Python\")"
      ]
    },
    {
      "cell_type": "code",
      "source": [
        "api_url=\"http://127.0.0.1:5000/data\"\n",
        "def get_number_of_jobs_T(technology):\n",
        "    number_of_jobs = 0  # Initialize number_of_jobs to 0\n",
        "    #your code goes here\n",
        "    # logic to fetch job data and update number_of_jobs should be added here\n",
        "\n",
        "    # Example: Assuming 'data' contains list of jobs, this is how to count:\n",
        "    # for job in data:\n",
        "    #     if technology in job['Key Skills']:  # or any other relevant key\n",
        "    #         number_of_jobs += 1\n",
        "    return technology,number_of_jobs"
      ],
      "metadata": {
        "id": "RLA30qE5zQhm"
      },
      "execution_count": 11,
      "outputs": []
    },
    {
      "cell_type": "markdown",
      "metadata": {
        "id": "Zwdihnq7a5MS"
      },
      "source": [
        "#### Write a function to find number of jobs in US for a location of your choice\n"
      ]
    },
    {
      "cell_type": "code",
      "execution_count": 12,
      "metadata": {
        "id": "QSYpHhO7a5MS"
      },
      "outputs": [],
      "source": [
        "def get_number_of_jobs_L(location):\n",
        "\n",
        "    #your coe goes here\n",
        "    return location,number_of_jobs"
      ]
    },
    {
      "cell_type": "markdown",
      "metadata": {
        "id": "Vsena8qea5MS"
      },
      "source": [
        "Call the function for Los Angeles and check if it is working.\n",
        "\n",
        "\n"
      ]
    },
    {
      "cell_type": "code",
      "source": [
        "# prompt: Call the function for Los Angeles and check if it is working.\n",
        "\n",
        "def get_number_of_jobs_L(location):\n",
        "    payload = {\"Location\": location}\n",
        "    try:\n",
        "        response = requests.get(api_url, params=payload)\n",
        "        response.raise_for_status()\n",
        "        data = response.json()\n",
        "        number_of_jobs = len(data)\n",
        "        return location, number_of_jobs\n",
        "    except requests.exceptions.RequestException as e:\n",
        "        print(f\"Error fetching data for {location}: {e}\")\n",
        "        return location, 0\n",
        "\n",
        "# Call the function for Los Angeles and check if it is working.\n",
        "location, number_of_jobs = get_number_of_jobs_L(\"Los Angeles\")\n",
        "print(f\"Number of jobs in {location}: {number_of_jobs}\")\n"
      ],
      "metadata": {
        "colab": {
          "base_uri": "https://localhost:8080/"
        },
        "id": "WSpSulPl0TI6",
        "outputId": "a1db61e3-9378-4739-e477-785fe85bceb7"
      },
      "execution_count": 17,
      "outputs": [
        {
          "output_type": "stream",
          "name": "stdout",
          "text": [
            "Error fetching data for Los Angeles: HTTPConnectionPool(host='127.0.0.1', port=5000): Max retries exceeded with url: /data?Location=Los+Angeles (Caused by NewConnectionError('<urllib3.connection.HTTPConnection object at 0x7b3d668d7b90>: Failed to establish a new connection: [Errno 111] Connection refused'))\n",
            "Number of jobs in Los Angeles: 0\n"
          ]
        }
      ]
    },
    {
      "cell_type": "code",
      "source": [],
      "metadata": {
        "id": "7WBx2H240Qtg"
      },
      "execution_count": null,
      "outputs": []
    },
    {
      "cell_type": "code",
      "execution_count": 13,
      "metadata": {
        "id": "1ZHShl8la5MT"
      },
      "outputs": [],
      "source": [
        "#your code goes here\n"
      ]
    },
    {
      "cell_type": "markdown",
      "metadata": {
        "id": "76COz80ra5MT"
      },
      "source": [
        "### Store the results in an excel file\n"
      ]
    },
    {
      "cell_type": "markdown",
      "metadata": {
        "id": "bXny-6QOa5MT"
      },
      "source": [
        "Call the API for all the given technologies above and write the results in an excel spreadsheet.\n"
      ]
    },
    {
      "cell_type": "markdown",
      "metadata": {
        "id": "zBgoLClha5MT"
      },
      "source": [
        "If you do not know how create excel file using python, double click here for **hints**.\n",
        "\n",
        "<!--\n",
        "\n",
        "from openpyxl import Workbook        # import Workbook class from module openpyxl\n",
        "wb=Workbook()                        # create a workbook object\n",
        "ws=wb.active                         # use the active worksheet\n",
        "ws.append(['Country','Continent'])   # add a row with two columns 'Country' and 'Continent'\n",
        "ws.append(['Eygpt','Africa'])        # add a row with two columns 'Egypt' and 'Africa'\n",
        "ws.append(['India','Asia'])          # add another row\n",
        "ws.append(['France','Europe'])       # add another row\n",
        "wb.save(\"countries.xlsx\")            # save the workbook into a file called countries.xlsx\n",
        "\n",
        "\n",
        "-->\n"
      ]
    },
    {
      "cell_type": "markdown",
      "metadata": {
        "id": "u9A7RmvZa5Mp"
      },
      "source": [
        "Create a python list of all locations for which you need to find the number of jobs postings.\n"
      ]
    },
    {
      "cell_type": "code",
      "source": [
        "# prompt: Call the API for all the given technologies above and write the results in an excel spreadsheet.\n",
        "\n",
        "import requests\n",
        "import pandas as pd\n",
        "\n",
        "api_url = \"http://127.0.0.1:5000/data\"\n",
        "\n",
        "def get_number_of_jobs_T(technology):\n",
        "    payload = {\"Key Skills\": technology}\n",
        "    try:\n",
        "        response = requests.get(api_url, params=payload)\n",
        "        response.raise_for_status()\n",
        "        data = response.json()\n",
        "        number_of_jobs = len(data)\n",
        "        return technology, number_of_jobs\n",
        "    except requests.exceptions.RequestException as e:\n",
        "        print(f\"Error fetching data for {technology}: {e}\")\n",
        "        return technology, 0\n",
        "\n",
        "def get_number_of_jobs_L(location):\n",
        "    payload = {\"Location\": location}\n",
        "    try:\n",
        "        response = requests.get(api_url, params=payload)\n",
        "        response.raise_for_status()\n",
        "        data = response.json()\n",
        "        number_of_jobs = len(data)\n",
        "        return location, number_of_jobs\n",
        "    except requests.exceptions.RequestException as e:\n",
        "        print(f\"Error fetching data for {location}: {e}\")\n",
        "        return location, 0\n",
        "\n",
        "# Create a list of technologies and locations\n",
        "technologies = [\"Python\", \"Java\", \"C++\", \"JavaScript\"]  # Add more technologies as needed\n",
        "locations = [\"Los Angeles\", \"New York\", \"San Francisco\", \"Washington DC\", \"Seattle\", \"Austin\", \"Detroit\"]\n",
        "\n",
        "# Create lists to store the results\n",
        "tech_results = []\n",
        "location_results = []\n",
        "\n",
        "# Fetch data for technologies\n",
        "for tech in technologies:\n",
        "    tech_results.append(get_number_of_jobs_T(tech))\n",
        "\n",
        "# Fetch data for locations\n",
        "for loc in locations:\n",
        "    location_results.append(get_number_of_jobs_L(loc))\n",
        "\n",
        "\n",
        "# Create a Pandas DataFrame\n",
        "data = {'Technology': [tech for tech, count in tech_results], 'Job Count': [count for tech, count in tech_results]}\n",
        "tech_df = pd.DataFrame(data)\n",
        "\n",
        "data = {'Location': [loc for loc, count in location_results], 'Job Count': [count for loc, count in location_results]}\n",
        "location_df = pd.DataFrame(data)\n",
        "\n",
        "# Export to Excel\n",
        "with pd.ExcelWriter('job_postings.xlsx') as writer:\n",
        "    tech_df.to_excel(writer, sheet_name='Technologies', index=False)\n",
        "    location_df.to_excel(writer, sheet_name='Locations', index=False)\n",
        "\n",
        "print(\"Data successfully written to job_postings.xlsx\")\n"
      ],
      "metadata": {
        "colab": {
          "base_uri": "https://localhost:8080/"
        },
        "id": "eUJCUx1d0nKj",
        "outputId": "086285ae-1373-4b6d-a61d-186ff1ed355b"
      },
      "execution_count": 19,
      "outputs": [
        {
          "output_type": "stream",
          "name": "stdout",
          "text": [
            "Error fetching data for Python: HTTPConnectionPool(host='127.0.0.1', port=5000): Max retries exceeded with url: /data?Key+Skills=Python (Caused by NewConnectionError('<urllib3.connection.HTTPConnection object at 0x7b3d66d48fd0>: Failed to establish a new connection: [Errno 111] Connection refused'))\n",
            "Error fetching data for Java: HTTPConnectionPool(host='127.0.0.1', port=5000): Max retries exceeded with url: /data?Key+Skills=Java (Caused by NewConnectionError('<urllib3.connection.HTTPConnection object at 0x7b3d64e48750>: Failed to establish a new connection: [Errno 111] Connection refused'))\n",
            "Error fetching data for C++: HTTPConnectionPool(host='127.0.0.1', port=5000): Max retries exceeded with url: /data?Key+Skills=C%2B%2B (Caused by NewConnectionError('<urllib3.connection.HTTPConnection object at 0x7b3d64e58510>: Failed to establish a new connection: [Errno 111] Connection refused'))\n",
            "Error fetching data for JavaScript: HTTPConnectionPool(host='127.0.0.1', port=5000): Max retries exceeded with url: /data?Key+Skills=JavaScript (Caused by NewConnectionError('<urllib3.connection.HTTPConnection object at 0x7b3d64e5a750>: Failed to establish a new connection: [Errno 111] Connection refused'))\n",
            "Error fetching data for Los Angeles: HTTPConnectionPool(host='127.0.0.1', port=5000): Max retries exceeded with url: /data?Location=Los+Angeles (Caused by NewConnectionError('<urllib3.connection.HTTPConnection object at 0x7b3d64e60450>: Failed to establish a new connection: [Errno 111] Connection refused'))\n",
            "Error fetching data for New York: HTTPConnectionPool(host='127.0.0.1', port=5000): Max retries exceeded with url: /data?Location=New+York (Caused by NewConnectionError('<urllib3.connection.HTTPConnection object at 0x7b3d64e623d0>: Failed to establish a new connection: [Errno 111] Connection refused'))\n",
            "Error fetching data for San Francisco: HTTPConnectionPool(host='127.0.0.1', port=5000): Max retries exceeded with url: /data?Location=San+Francisco (Caused by NewConnectionError('<urllib3.connection.HTTPConnection object at 0x7b3d64e5acd0>: Failed to establish a new connection: [Errno 111] Connection refused'))\n",
            "Error fetching data for Washington DC: HTTPConnectionPool(host='127.0.0.1', port=5000): Max retries exceeded with url: /data?Location=Washington+DC (Caused by NewConnectionError('<urllib3.connection.HTTPConnection object at 0x7b3d64e5abd0>: Failed to establish a new connection: [Errno 111] Connection refused'))\n",
            "Error fetching data for Seattle: HTTPConnectionPool(host='127.0.0.1', port=5000): Max retries exceeded with url: /data?Location=Seattle (Caused by NewConnectionError('<urllib3.connection.HTTPConnection object at 0x7b3d64e58110>: Failed to establish a new connection: [Errno 111] Connection refused'))\n",
            "Error fetching data for Austin: HTTPConnectionPool(host='127.0.0.1', port=5000): Max retries exceeded with url: /data?Location=Austin (Caused by NewConnectionError('<urllib3.connection.HTTPConnection object at 0x7b3d64e48050>: Failed to establish a new connection: [Errno 111] Connection refused'))\n",
            "Error fetching data for Detroit: HTTPConnectionPool(host='127.0.0.1', port=5000): Max retries exceeded with url: /data?Location=Detroit (Caused by NewConnectionError('<urllib3.connection.HTTPConnection object at 0x7b3d64e60fd0>: Failed to establish a new connection: [Errno 111] Connection refused'))\n",
            "Data successfully written to job_postings.xlsx\n"
          ]
        }
      ]
    },
    {
      "cell_type": "code",
      "execution_count": 18,
      "metadata": {
        "id": "t7005IDxa5Mq"
      },
      "outputs": [],
      "source": [
        "#your code goes here\n"
      ]
    },
    {
      "cell_type": "code",
      "source": [
        "# prompt: Call the API for all the given technologies above and write the results in an excel spreadsheet.\n",
        "\n",
        "import requests\n",
        "import pandas as pd\n",
        "\n",
        "api_url = \"http://127.0.0.1:5000/data\"\n",
        "\n",
        "def get_number_of_jobs_T(technology):\n",
        "    payload = {\"Key Skills\": technology}\n",
        "    try:\n",
        "        response = requests.get(api_url, params=payload)\n",
        "        response.raise_for_status()\n",
        "        data = response.json()\n",
        "        number_of_jobs = len(data)\n",
        "        return technology, number_of_jobs\n",
        "    except requests.exceptions.RequestException as e:\n",
        "        print(f\"Error fetching data for {technology}: {e}\")\n",
        "        return technology, 0\n",
        "\n",
        "def get_number_of_jobs_L(location):\n",
        "    payload = {\"Location\": location}\n",
        "    try:\n",
        "        response = requests.get(api_url, params=payload)\n",
        "        response.raise_for_status()\n",
        "        data = response.json()\n",
        "        number_of_jobs = len(data)\n",
        "        return location, number_of_jobs\n",
        "    except requests.exceptions.RequestException as e:\n",
        "        print(f\"Error fetching data for {location}: {e}\")\n",
        "        return location, 0\n",
        "\n",
        "# Create a list of technologies and locations\n",
        "technologies = [\"Python\", \"Java\", \"C++\", \"JavaScript\"]  # Add more technologies as needed\n",
        "locations = [\"Los Angeles\", \"New York\", \"San Francisco\", \"Washington DC\", \"Seattle\", \"Austin\", \"Detroit\"]\n",
        "\n",
        "# Create lists to store the results\n",
        "tech_results = []\n",
        "location_results = []\n",
        "\n",
        "# Fetch data for technologies\n",
        "for tech in technologies:\n",
        "    tech_results.append(get_number_of_jobs_T(tech))\n",
        "\n",
        "# Fetch data for locations\n",
        "for loc in locations:\n",
        "    location_results.append(get_number_of_jobs_L(loc))\n",
        "\n",
        "\n",
        "# Create a Pandas DataFrame\n",
        "data = {'Technology': [tech for tech, count in tech_results], 'Job Count': [count for tech, count in tech_results]}\n",
        "tech_df = pd.DataFrame(data)\n",
        "\n",
        "data = {'Location': [loc for loc, count in location_results], 'Job Count': [count for loc, count in location_results]}\n",
        "location_df = pd.DataFrame(data)\n",
        "\n",
        "# Export to Excel\n",
        "with pd.ExcelWriter('job_postings.xlsx') as writer:\n",
        "    tech_df.to_excel(writer, sheet_name='Technologies', index=False)\n",
        "    location_df.to_excel(writer, sheet_name='Locations', index=False)\n",
        "\n",
        "print(\"Data successfully written to job_postings.xlsx\")\n"
      ],
      "metadata": {
        "colab": {
          "base_uri": "https://localhost:8080/"
        },
        "outputId": "313b4af8-5eae-47da-dd6e-e0891d0fa053",
        "id": "eIA8S6iI05Mb"
      },
      "execution_count": 20,
      "outputs": [
        {
          "output_type": "stream",
          "name": "stdout",
          "text": [
            "Error fetching data for Python: HTTPConnectionPool(host='127.0.0.1', port=5000): Max retries exceeded with url: /data?Key+Skills=Python (Caused by NewConnectionError('<urllib3.connection.HTTPConnection object at 0x7b3d64853850>: Failed to establish a new connection: [Errno 111] Connection refused'))\n",
            "Error fetching data for Java: HTTPConnectionPool(host='127.0.0.1', port=5000): Max retries exceeded with url: /data?Key+Skills=Java (Caused by NewConnectionError('<urllib3.connection.HTTPConnection object at 0x7b3d64587cd0>: Failed to establish a new connection: [Errno 111] Connection refused'))\n",
            "Error fetching data for C++: HTTPConnectionPool(host='127.0.0.1', port=5000): Max retries exceeded with url: /data?Key+Skills=C%2B%2B (Caused by NewConnectionError('<urllib3.connection.HTTPConnection object at 0x7b3d64589e90>: Failed to establish a new connection: [Errno 111] Connection refused'))\n",
            "Error fetching data for JavaScript: HTTPConnectionPool(host='127.0.0.1', port=5000): Max retries exceeded with url: /data?Key+Skills=JavaScript (Caused by NewConnectionError('<urllib3.connection.HTTPConnection object at 0x7b3d6457c090>: Failed to establish a new connection: [Errno 111] Connection refused'))\n",
            "Error fetching data for Los Angeles: HTTPConnectionPool(host='127.0.0.1', port=5000): Max retries exceeded with url: /data?Location=Los+Angeles (Caused by NewConnectionError('<urllib3.connection.HTTPConnection object at 0x7b3d6457de50>: Failed to establish a new connection: [Errno 111] Connection refused'))\n",
            "Error fetching data for New York: HTTPConnectionPool(host='127.0.0.1', port=5000): Max retries exceeded with url: /data?Location=New+York (Caused by NewConnectionError('<urllib3.connection.HTTPConnection object at 0x7b3d6458aad0>: Failed to establish a new connection: [Errno 111] Connection refused'))\n",
            "Error fetching data for San Francisco: HTTPConnectionPool(host='127.0.0.1', port=5000): Max retries exceeded with url: /data?Location=San+Francisco (Caused by NewConnectionError('<urllib3.connection.HTTPConnection object at 0x7b3d64588e10>: Failed to establish a new connection: [Errno 111] Connection refused'))\n",
            "Error fetching data for Washington DC: HTTPConnectionPool(host='127.0.0.1', port=5000): Max retries exceeded with url: /data?Location=Washington+DC (Caused by NewConnectionError('<urllib3.connection.HTTPConnection object at 0x7b3d64588090>: Failed to establish a new connection: [Errno 111] Connection refused'))\n",
            "Error fetching data for Seattle: HTTPConnectionPool(host='127.0.0.1', port=5000): Max retries exceeded with url: /data?Location=Seattle (Caused by NewConnectionError('<urllib3.connection.HTTPConnection object at 0x7b3d64586990>: Failed to establish a new connection: [Errno 111] Connection refused'))\n",
            "Error fetching data for Austin: HTTPConnectionPool(host='127.0.0.1', port=5000): Max retries exceeded with url: /data?Location=Austin (Caused by NewConnectionError('<urllib3.connection.HTTPConnection object at 0x7b3d6457d2d0>: Failed to establish a new connection: [Errno 111] Connection refused'))\n",
            "Error fetching data for Detroit: HTTPConnectionPool(host='127.0.0.1', port=5000): Max retries exceeded with url: /data?Location=Detroit (Caused by NewConnectionError('<urllib3.connection.HTTPConnection object at 0x7b3d6457fe10>: Failed to establish a new connection: [Errno 111] Connection refused'))\n",
            "Data successfully written to job_postings.xlsx\n"
          ]
        }
      ]
    },
    {
      "cell_type": "markdown",
      "metadata": {
        "id": "VUPbwvwCa5Mr"
      },
      "source": [
        "Import libraries required to create excel spreadsheet\n"
      ]
    },
    {
      "cell_type": "code",
      "source": [
        "# prompt: Import libraries required to create excel spreadsheet\n",
        "\n",
        "import pandas as pd\n",
        "from openpyxl import Workbook\n"
      ],
      "metadata": {
        "id": "oQCW8Cwe08wY"
      },
      "execution_count": 21,
      "outputs": []
    },
    {
      "cell_type": "markdown",
      "metadata": {
        "id": "JqCRTbula5Ms"
      },
      "source": [
        "Create a workbook and select the active worksheet\n"
      ]
    },
    {
      "cell_type": "markdown",
      "source": [],
      "metadata": {
        "id": "bz_enUc-1EUW"
      }
    },
    {
      "cell_type": "code",
      "execution_count": 22,
      "metadata": {
        "id": "44tsbPMBa5Ms"
      },
      "outputs": [],
      "source": [
        "# prompt: Create a workbook and select the active worksheet\n",
        "\n",
        "from openpyxl import Workbook\n",
        "\n",
        "wb = Workbook()\n",
        "ws = wb.active\n"
      ]
    },
    {
      "cell_type": "markdown",
      "metadata": {
        "id": "l-2sl3ZTa5Mt"
      },
      "source": [
        "Find the number of jobs postings for each of the location in the above list.\n",
        "Write the Location name and the number of jobs postings into the excel spreadsheet.\n"
      ]
    },
    {
      "cell_type": "code",
      "execution_count": 23,
      "metadata": {
        "colab": {
          "base_uri": "https://localhost:8080/"
        },
        "id": "asO4Fbjqa5Mt",
        "outputId": "1391d787-abdd-4a1d-a2d4-8e8469fdee42"
      },
      "outputs": [
        {
          "output_type": "stream",
          "name": "stdout",
          "text": [
            "Error fetching data for Los Angeles: HTTPConnectionPool(host='127.0.0.1', port=5000): Max retries exceeded with url: /data?Location=Los+Angeles (Caused by NewConnectionError('<urllib3.connection.HTTPConnection object at 0x7b3d66795d90>: Failed to establish a new connection: [Errno 111] Connection refused'))\n",
            "Error fetching data for New York: HTTPConnectionPool(host='127.0.0.1', port=5000): Max retries exceeded with url: /data?Location=New+York (Caused by NewConnectionError('<urllib3.connection.HTTPConnection object at 0x7b3d6452edd0>: Failed to establish a new connection: [Errno 111] Connection refused'))\n",
            "Error fetching data for San Francisco: HTTPConnectionPool(host='127.0.0.1', port=5000): Max retries exceeded with url: /data?Location=San+Francisco (Caused by NewConnectionError('<urllib3.connection.HTTPConnection object at 0x7b3d6458a250>: Failed to establish a new connection: [Errno 111] Connection refused'))\n",
            "Error fetching data for Washington DC: HTTPConnectionPool(host='127.0.0.1', port=5000): Max retries exceeded with url: /data?Location=Washington+DC (Caused by NewConnectionError('<urllib3.connection.HTTPConnection object at 0x7b3d6458a410>: Failed to establish a new connection: [Errno 111] Connection refused'))\n",
            "Error fetching data for Seattle: HTTPConnectionPool(host='127.0.0.1', port=5000): Max retries exceeded with url: /data?Location=Seattle (Caused by NewConnectionError('<urllib3.connection.HTTPConnection object at 0x7b3d64505350>: Failed to establish a new connection: [Errno 111] Connection refused'))\n",
            "Error fetching data for Austin: HTTPConnectionPool(host='127.0.0.1', port=5000): Max retries exceeded with url: /data?Location=Austin (Caused by NewConnectionError('<urllib3.connection.HTTPConnection object at 0x7b3d64507190>: Failed to establish a new connection: [Errno 111] Connection refused'))\n",
            "Error fetching data for Detroit: HTTPConnectionPool(host='127.0.0.1', port=5000): Max retries exceeded with url: /data?Location=Detroit (Caused by NewConnectionError('<urllib3.connection.HTTPConnection object at 0x7b3d6458ae90>: Failed to establish a new connection: [Errno 111] Connection refused'))\n"
          ]
        }
      ],
      "source": [
        "# prompt: # prompt: Create a workbook and select the active worksheet\n",
        "# from openpyxl import Workbook\n",
        "# wb = Workbook()\n",
        "# ws = wb.active\n",
        "# Find the number of jobs postings for each of the location in the above list. Write the Location name and the number of jobs postings into the excel spreadsheet.\n",
        "\n",
        "from openpyxl import Workbook\n",
        "import requests\n",
        "\n",
        "wb = Workbook()\n",
        "ws = wb.active\n",
        "\n",
        "api_url = \"http://127.0.0.1:5000/data\"\n",
        "\n",
        "def get_number_of_jobs_L(location):\n",
        "    payload = {\"Location\": location}\n",
        "    try:\n",
        "        response = requests.get(api_url, params=payload)\n",
        "        response.raise_for_status()\n",
        "        data = response.json()\n",
        "        number_of_jobs = len(data)\n",
        "        return location, number_of_jobs\n",
        "    except requests.exceptions.RequestException as e:\n",
        "        print(f\"Error fetching data for {location}: {e}\")\n",
        "        return location, 0\n",
        "\n",
        "locations = [\"Los Angeles\", \"New York\", \"San Francisco\", \"Washington DC\", \"Seattle\", \"Austin\", \"Detroit\"]\n",
        "location_results = []\n",
        "\n",
        "for loc in locations:\n",
        "    location, number_of_jobs = get_number_of_jobs_L(loc)\n",
        "    location_results.append((location, number_of_jobs))\n",
        "    ws.append([location, number_of_jobs])\n",
        "\n",
        "wb.save(\"job_postings_by_location.xlsx\")\n"
      ]
    },
    {
      "cell_type": "markdown",
      "metadata": {
        "id": "K0dZNdAMa5Mt"
      },
      "source": [
        "Save into an excel spreadsheet named 'job-postings.xlsx'.\n"
      ]
    },
    {
      "cell_type": "code",
      "execution_count": 24,
      "metadata": {
        "colab": {
          "base_uri": "https://localhost:8080/"
        },
        "id": "aWwvNezXa5Mu",
        "outputId": "1766f654-68c8-4890-b727-c047a2f86d58"
      },
      "outputs": [
        {
          "output_type": "stream",
          "name": "stdout",
          "text": [
            "Error fetching data for Los Angeles: HTTPConnectionPool(host='127.0.0.1', port=5000): Max retries exceeded with url: /data?Location=Los+Angeles (Caused by NewConnectionError('<urllib3.connection.HTTPConnection object at 0x7b3d64531c10>: Failed to establish a new connection: [Errno 111] Connection refused'))\n",
            "Error fetching data for New York: HTTPConnectionPool(host='127.0.0.1', port=5000): Max retries exceeded with url: /data?Location=New+York (Caused by NewConnectionError('<urllib3.connection.HTTPConnection object at 0x7b3d64532cd0>: Failed to establish a new connection: [Errno 111] Connection refused'))\n",
            "Error fetching data for San Francisco: HTTPConnectionPool(host='127.0.0.1', port=5000): Max retries exceeded with url: /data?Location=San+Francisco (Caused by NewConnectionError('<urllib3.connection.HTTPConnection object at 0x7b3d6458be90>: Failed to establish a new connection: [Errno 111] Connection refused'))\n",
            "Error fetching data for Washington DC: HTTPConnectionPool(host='127.0.0.1', port=5000): Max retries exceeded with url: /data?Location=Washington+DC (Caused by NewConnectionError('<urllib3.connection.HTTPConnection object at 0x7b3d64507c90>: Failed to establish a new connection: [Errno 111] Connection refused'))\n",
            "Error fetching data for Seattle: HTTPConnectionPool(host='127.0.0.1', port=5000): Max retries exceeded with url: /data?Location=Seattle (Caused by NewConnectionError('<urllib3.connection.HTTPConnection object at 0x7b3d64504e10>: Failed to establish a new connection: [Errno 111] Connection refused'))\n",
            "Error fetching data for Austin: HTTPConnectionPool(host='127.0.0.1', port=5000): Max retries exceeded with url: /data?Location=Austin (Caused by NewConnectionError('<urllib3.connection.HTTPConnection object at 0x7b3d6453c550>: Failed to establish a new connection: [Errno 111] Connection refused'))\n",
            "Error fetching data for Detroit: HTTPConnectionPool(host='127.0.0.1', port=5000): Max retries exceeded with url: /data?Location=Detroit (Caused by NewConnectionError('<urllib3.connection.HTTPConnection object at 0x7b3d6453e310>: Failed to establish a new connection: [Errno 111] Connection refused'))\n"
          ]
        }
      ],
      "source": [
        "# prompt: Save into an excel spreadsheet named 'job-postings.xlsx'.\n",
        "\n",
        "from openpyxl import Workbook\n",
        "\n",
        "wb = Workbook()\n",
        "ws = wb.active\n",
        "\n",
        "api_url = \"http://127.0.0.1:5000/data\"\n",
        "\n",
        "def get_number_of_jobs_L(location):\n",
        "    payload = {\"Location\": location}\n",
        "    try:\n",
        "        response = requests.get(api_url, params=payload)\n",
        "        response.raise_for_status()\n",
        "        data = response.json()\n",
        "        number_of_jobs = len(data)\n",
        "        return location, number_of_jobs\n",
        "    except requests.exceptions.RequestException as e:\n",
        "        print(f\"Error fetching data for {location}: {e}\")\n",
        "        return location, 0\n",
        "\n",
        "locations = [\"Los Angeles\", \"New York\", \"San Francisco\", \"Washington DC\", \"Seattle\", \"Austin\", \"Detroit\"]\n",
        "location_results = []\n",
        "\n",
        "for loc in locations:\n",
        "    location, number_of_jobs = get_number_of_jobs_L(loc)\n",
        "    location_results.append((location, number_of_jobs))\n",
        "    ws.append([location, number_of_jobs])\n",
        "\n",
        "wb.save(\"job-postings.xlsx\")\n"
      ]
    },
    {
      "cell_type": "markdown",
      "metadata": {
        "id": "gBcH_H5la5Mu"
      },
      "source": [
        "#### In the similar way, you can try for below given technologies and results  can be stored in an excel sheet.\n"
      ]
    },
    {
      "cell_type": "markdown",
      "metadata": {
        "id": "6cnbaJ0Ba5Mu"
      },
      "source": [
        "Collect the number of job postings for the following languages using the API:\n",
        "\n",
        "*   C\n",
        "*   C#\n",
        "*   C++\n",
        "*   Java\n",
        "*   JavaScript\n",
        "*   Python\n",
        "*   Scala\n",
        "*   Oracle\n",
        "*   SQL Server\n",
        "*   MySQL Server\n",
        "*   PostgreSQL\n",
        "*   MongoDB\n"
      ]
    },
    {
      "cell_type": "code",
      "execution_count": null,
      "metadata": {
        "id": "RonjsFsya5Mv"
      },
      "outputs": [],
      "source": [
        "# your code goes here\n"
      ]
    },
    {
      "cell_type": "markdown",
      "metadata": {
        "id": "T06nB5Laa5Mv"
      },
      "source": [
        "## Author\n"
      ]
    },
    {
      "cell_type": "markdown",
      "metadata": {
        "id": "iUQLSihIa5Mv"
      },
      "source": [
        "Ayushi Jain\n"
      ]
    },
    {
      "cell_type": "markdown",
      "metadata": {
        "id": "TC8MseMWa5Mw"
      },
      "source": [
        "### Other Contributors\n"
      ]
    },
    {
      "cell_type": "markdown",
      "metadata": {
        "id": "80gWki9ja5Mw"
      },
      "source": [
        "Rav Ahuja\n",
        "\n",
        "Lakshmi Holla\n",
        "\n",
        "Malika\n"
      ]
    },
    {
      "cell_type": "markdown",
      "metadata": {
        "id": "n4kkD6_ta5Mw"
      },
      "source": [
        "## Change Log\n"
      ]
    },
    {
      "cell_type": "markdown",
      "metadata": {
        "id": "EKRq0Poxa5Mx"
      },
      "source": [
        "| Date (YYYY-MM-DD) | Version | Changed By        | Change Description                 |\n",
        "| ----------------- | ------- | ----------------- | ---------------------------------- |\n",
        "| 2022-01-19        | 0.3     | Lakshmi Holla        | Added changes in the markdown      |\n",
        "| 2021-06-25        | 0.2     | Malika            | Updated GitHub job json link       |\n",
        "| 2020-10-17        | 0.1     | Ramesh Sannareddy | Created initial version of the lab |\n"
      ]
    },
    {
      "cell_type": "markdown",
      "metadata": {
        "id": "zvWUJNWta5Mx"
      },
      "source": [
        "Copyright © 2022 IBM Corporation. All rights reserved.\n"
      ]
    }
  ],
  "metadata": {
    "kernelspec": {
      "display_name": "Python",
      "language": "python",
      "name": "conda-env-python-py"
    },
    "language_info": {
      "name": ""
    },
    "colab": {
      "provenance": []
    }
  },
  "nbformat": 4,
  "nbformat_minor": 0
}